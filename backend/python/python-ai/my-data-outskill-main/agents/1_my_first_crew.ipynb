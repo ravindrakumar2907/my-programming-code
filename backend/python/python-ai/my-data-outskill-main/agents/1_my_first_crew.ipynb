{
  "cells": [
    {
      "cell_type": "markdown",
      "id": "416ac773",
      "metadata": {
        "id": "416ac773"
      },
      "source": [
        "# Using CrewAI for Defining and Running AI Agents"
      ]
    },
    {
      "cell_type": "markdown",
      "id": "dbc18889",
      "metadata": {
        "id": "dbc18889"
      },
      "source": [
        "\n",
        "In this notebook, we will use **CrewAI**, a framework for defining and running AI agents for specific tasks. This notebook will guide you through setting up an agent, assigning a task, and running the process.\n",
        "\n",
        "## Steps Overview\n",
        "1. Define an Agent with a role, goal, and the LLM model it will use.\n",
        "2. Define a Task that associates a description and expected output to the agent.\n",
        "3. Initialize a Crew with the agent and task.\n",
        "4. Kickoff the Crew with an input query and observe the response.\n",
        "\n",
        "---\n",
        "### Prerequisites\n",
        "- Install the `crewai` library.\n",
        "- Obtain API keys for the LLM model you want to use (e.g., Groq or OpenAI).\n",
        "- Set up a Python environment with necessary dependencies.\n",
        "\n",
        "---\n",
        "### Code Walkthrough\n",
        "Below is the implementation to define and use an AI agent for answering queries.\n"
      ]
    },
    {
      "cell_type": "code",
      "execution_count": 2,
      "id": "38e6ae9d",
      "metadata": {},
      "outputs": [
        {
          "data": {
            "text/plain": [
              "True"
            ]
          },
          "execution_count": 2,
          "metadata": {},
          "output_type": "execute_result"
        }
      ],
      "source": [
        "import os\n",
        "from dotenv import load_dotenv\n",
        "\n",
        "load_dotenv()"
      ]
    },
    {
      "cell_type": "markdown",
      "id": "6c1e0e49",
      "metadata": {
        "id": "6c1e0e49"
      },
      "source": [
        "### Step 1: Define the Agent"
      ]
    },
    {
      "cell_type": "markdown",
      "id": "D740JYfiy2cd",
      "metadata": {
        "id": "D740JYfiy2cd"
      },
      "source": [
        "### Role"
      ]
    },
    {
      "cell_type": "code",
      "execution_count": 3,
      "id": "8a3fa9d5",
      "metadata": {
        "id": "8a3fa9d5"
      },
      "outputs": [],
      "source": [
        "# Create an instance of OpenAI's LLM\n",
        "from crewai.llm import LLM\n",
        "\n",
        "os.environ[\"OPENAI_API_KEY\"] = os.getenv('OPENAI_API_KEY')\n",
        "llm = LLM(model='gpt-4o', temperature=0.7)\n",
        "\n",
        "# Define your agent with OpenAI LLM\n",
        "from crewai import Agent\n",
        "\n",
        "thinker = Agent(\n",
        "    role='Critical Thinker',\n",
        "    goal='Analyse the text and identify if any conflicting information within',\n",
        "    llm=llm,  # Pass the OpenAI LLM instance here\n",
        "    verbose=True,\n",
        "    backstory=(\n",
        "        'You are a critical thinker who understands details very well and expert negotiator.'\n",
        "        \"You can identify conflicting statements, information in given text\"\n",
        "    ),\n",
        ")"
      ]
    },
    {
      "cell_type": "markdown",
      "id": "9e1b75e1",
      "metadata": {
        "id": "9e1b75e1"
      },
      "source": [
        "### Step 2: Define the Task"
      ]
    },
    {
      "cell_type": "code",
      "execution_count": 4,
      "id": "987c9d9a",
      "metadata": {
        "id": "987c9d9a"
      },
      "outputs": [],
      "source": [
        "from crewai import Task\n",
        "\n",
        "# Define a task with a description and expected output\n",
        "conflict_task = Task(\n",
        "    description=('Find if there are any conflicting statement / information in text. \\n Text : \\n{text}'),\n",
        "    expected_output=\"Respond with 'conflict' / 'no conflict'\",\n",
        "    agent=thinker,\n",
        ")"
      ]
    },
    {
      "cell_type": "markdown",
      "id": "8b22e9bf",
      "metadata": {
        "id": "8b22e9bf"
      },
      "source": [
        "### Step 3: Initialize the Crew"
      ]
    },
    {
      "cell_type": "code",
      "execution_count": 5,
      "id": "e1608bf4",
      "metadata": {
        "id": "e1608bf4"
      },
      "outputs": [],
      "source": [
        "from crewai import Crew\n",
        "\n",
        "# Define the Crew with agents and tasks\n",
        "crew = Crew(\n",
        "    agents=[thinker],\n",
        "    tasks=[conflict_task],\n",
        ")"
      ]
    },
    {
      "cell_type": "markdown",
      "id": "a47100b2",
      "metadata": {
        "id": "a47100b2"
      },
      "source": [
        "### Step 4: Run the Crew and Get the Response"
      ]
    },
    {
      "cell_type": "code",
      "execution_count": 7,
      "id": "238c65b8",
      "metadata": {
        "collapsed": true,
        "id": "238c65b8"
      },
      "outputs": [
        {
          "data": {
            "text/html": [
              "<pre style=\"white-space:pre;overflow-x:auto;line-height:normal;font-family:Menlo,'DejaVu Sans Mono',consolas,'Courier New',monospace\"><span style=\"color: #800080; text-decoration-color: #800080\">╭─────────────────────────────────────────────── 🤖 Agent Started ────────────────────────────────────────────────╮</span>\n",
              "<span style=\"color: #800080; text-decoration-color: #800080\">│</span>                                                                                                                 <span style=\"color: #800080; text-decoration-color: #800080\">│</span>\n",
              "<span style=\"color: #800080; text-decoration-color: #800080\">│</span>  <span style=\"color: #c0c0c0; text-decoration-color: #c0c0c0\">Agent: </span><span style=\"color: #00ff00; text-decoration-color: #00ff00; font-weight: bold\">Critical Thinker</span>                                                                                        <span style=\"color: #800080; text-decoration-color: #800080\">│</span>\n",
              "<span style=\"color: #800080; text-decoration-color: #800080\">│</span>                                                                                                                 <span style=\"color: #800080; text-decoration-color: #800080\">│</span>\n",
              "<span style=\"color: #800080; text-decoration-color: #800080\">│</span>  <span style=\"color: #c0c0c0; text-decoration-color: #c0c0c0\">Task: </span><span style=\"color: #00ff00; text-decoration-color: #00ff00\">Find if there are any conflicting statement / information in text. </span>                                      <span style=\"color: #800080; text-decoration-color: #800080\">│</span>\n",
              "<span style=\"color: #800080; text-decoration-color: #800080\">│</span>  <span style=\"color: #00ff00; text-decoration-color: #00ff00\"> Text : </span>                                                                                                       <span style=\"color: #800080; text-decoration-color: #800080\">│</span>\n",
              "<span style=\"color: #800080; text-decoration-color: #800080\">│</span>  <span style=\"color: #00ff00; text-decoration-color: #00ff00\">After a long day at office, I was going back home in the late evening. Then, I met my friend on the way to </span>    <span style=\"color: #800080; text-decoration-color: #800080\">│</span>\n",
              "<span style=\"color: #800080; text-decoration-color: #800080\">│</span>  <span style=\"color: #00ff00; text-decoration-color: #00ff00\">office.</span>                                                                                                        <span style=\"color: #800080; text-decoration-color: #800080\">│</span>\n",
              "<span style=\"color: #800080; text-decoration-color: #800080\">│</span>                                                                                                                 <span style=\"color: #800080; text-decoration-color: #800080\">│</span>\n",
              "<span style=\"color: #800080; text-decoration-color: #800080\">╰─────────────────────────────────────────────────────────────────────────────────────────────────────────────────╯</span>\n",
              "</pre>\n"
            ],
            "text/plain": [
              "\u001b[35m╭─\u001b[0m\u001b[35m──────────────────────────────────────────────\u001b[0m\u001b[35m 🤖 Agent Started \u001b[0m\u001b[35m───────────────────────────────────────────────\u001b[0m\u001b[35m─╮\u001b[0m\n",
              "\u001b[35m│\u001b[0m                                                                                                                 \u001b[35m│\u001b[0m\n",
              "\u001b[35m│\u001b[0m  \u001b[37mAgent: \u001b[0m\u001b[1;92mCritical Thinker\u001b[0m                                                                                        \u001b[35m│\u001b[0m\n",
              "\u001b[35m│\u001b[0m                                                                                                                 \u001b[35m│\u001b[0m\n",
              "\u001b[35m│\u001b[0m  \u001b[37mTask: \u001b[0m\u001b[92mFind if there are any conflicting statement / information in text. \u001b[0m                                      \u001b[35m│\u001b[0m\n",
              "\u001b[35m│\u001b[0m  \u001b[92m Text : \u001b[0m                                                                                                       \u001b[35m│\u001b[0m\n",
              "\u001b[35m│\u001b[0m  \u001b[92mAfter a long day at office, I was going back home in the late evening. Then, I met my friend on the way to \u001b[0m    \u001b[35m│\u001b[0m\n",
              "\u001b[35m│\u001b[0m  \u001b[92moffice.\u001b[0m                                                                                                        \u001b[35m│\u001b[0m\n",
              "\u001b[35m│\u001b[0m                                                                                                                 \u001b[35m│\u001b[0m\n",
              "\u001b[35m╰─────────────────────────────────────────────────────────────────────────────────────────────────────────────────╯\u001b[0m\n"
            ]
          },
          "metadata": {},
          "output_type": "display_data"
        },
        {
          "data": {
            "text/html": [
              "<pre style=\"white-space:pre;overflow-x:auto;line-height:normal;font-family:Menlo,'DejaVu Sans Mono',consolas,'Courier New',monospace\">\n",
              "</pre>\n"
            ],
            "text/plain": [
              "\n"
            ]
          },
          "metadata": {},
          "output_type": "display_data"
        },
        {
          "data": {
            "text/html": [
              "<pre style=\"white-space:pre;overflow-x:auto;line-height:normal;font-family:Menlo,'DejaVu Sans Mono',consolas,'Courier New',monospace\"><span style=\"color: #008000; text-decoration-color: #008000\">╭───────────────────────────────────────────── ✅ Agent Final Answer ─────────────────────────────────────────────╮</span>\n",
              "<span style=\"color: #008000; text-decoration-color: #008000\">│</span>                                                                                                                 <span style=\"color: #008000; text-decoration-color: #008000\">│</span>\n",
              "<span style=\"color: #008000; text-decoration-color: #008000\">│</span>  <span style=\"color: #c0c0c0; text-decoration-color: #c0c0c0\">Agent: </span><span style=\"color: #00ff00; text-decoration-color: #00ff00; font-weight: bold\">Critical Thinker</span>                                                                                        <span style=\"color: #008000; text-decoration-color: #008000\">│</span>\n",
              "<span style=\"color: #008000; text-decoration-color: #008000\">│</span>                                                                                                                 <span style=\"color: #008000; text-decoration-color: #008000\">│</span>\n",
              "<span style=\"color: #008000; text-decoration-color: #008000\">│</span>  <span style=\"color: #c0c0c0; text-decoration-color: #c0c0c0\">Final Answer:</span>                                                                                                  <span style=\"color: #008000; text-decoration-color: #008000\">│</span>\n",
              "<span style=\"color: #008000; text-decoration-color: #008000\">│</span>  <span style=\"color: #00ff00; text-decoration-color: #00ff00\">Conflict</span>                                                                                                       <span style=\"color: #008000; text-decoration-color: #008000\">│</span>\n",
              "<span style=\"color: #008000; text-decoration-color: #008000\">│</span>                                                                                                                 <span style=\"color: #008000; text-decoration-color: #008000\">│</span>\n",
              "<span style=\"color: #008000; text-decoration-color: #008000\">╰─────────────────────────────────────────────────────────────────────────────────────────────────────────────────╯</span>\n",
              "</pre>\n"
            ],
            "text/plain": [
              "\u001b[32m╭─\u001b[0m\u001b[32m────────────────────────────────────────────\u001b[0m\u001b[32m ✅ Agent Final Answer \u001b[0m\u001b[32m────────────────────────────────────────────\u001b[0m\u001b[32m─╮\u001b[0m\n",
              "\u001b[32m│\u001b[0m                                                                                                                 \u001b[32m│\u001b[0m\n",
              "\u001b[32m│\u001b[0m  \u001b[37mAgent: \u001b[0m\u001b[1;92mCritical Thinker\u001b[0m                                                                                        \u001b[32m│\u001b[0m\n",
              "\u001b[32m│\u001b[0m                                                                                                                 \u001b[32m│\u001b[0m\n",
              "\u001b[32m│\u001b[0m  \u001b[37mFinal Answer:\u001b[0m                                                                                                  \u001b[32m│\u001b[0m\n",
              "\u001b[32m│\u001b[0m  \u001b[92mConflict\u001b[0m                                                                                                       \u001b[32m│\u001b[0m\n",
              "\u001b[32m│\u001b[0m                                                                                                                 \u001b[32m│\u001b[0m\n",
              "\u001b[32m╰─────────────────────────────────────────────────────────────────────────────────────────────────────────────────╯\u001b[0m\n"
            ]
          },
          "metadata": {},
          "output_type": "display_data"
        },
        {
          "data": {
            "text/html": [
              "<pre style=\"white-space:pre;overflow-x:auto;line-height:normal;font-family:Menlo,'DejaVu Sans Mono',consolas,'Courier New',monospace\">\n",
              "</pre>\n"
            ],
            "text/plain": [
              "\n"
            ]
          },
          "metadata": {},
          "output_type": "display_data"
        },
        {
          "name": "stdout",
          "output_type": "stream",
          "text": [
            "Response: Conflict\n"
          ]
        }
      ],
      "source": [
        "# Kickoff the Crew with the input query\n",
        "# Text = \"After a long day at office, I was going back home in the late evening. Then, I met my friend on the way to office.\"\n",
        "# Text = \"I love to travel to new places and explore the culture and food of the place.\"\n",
        "# Text = \"I went to the library to study, but I forgot to bring my books and studied all of them.\"\n",
        "Text = \"She said she has never been to Paris, yet she described the Eiffel Tower in great detail from her last trip.\"\n",
        "\n",
        "result = crew.kickoff(inputs={'text': Text})\n",
        "\n",
        "# Print the response\n",
        "print(\"Response:\", result)"
      ]
    },
    {
      "cell_type": "markdown",
      "id": "85e8c10f",
      "metadata": {
        "id": "85e8c10f"
      },
      "source": [
        "\n",
        "---\n",
        "### Conclusion\n",
        "This demonstrates the ability to define and execute tasks with CrewAI agents. You can now expand this framework to handle more complex tasks and use cases by modifying the agent's backstory, goals, or associated tasks.\n"
      ]
    }
  ],
  "metadata": {
    "colab": {
      "provenance": []
    },
    "kernelspec": {
      "display_name": "agents",
      "language": "python",
      "name": "python3"
    },
    "language_info": {
      "codemirror_mode": {
        "name": "ipython",
        "version": 3
      },
      "file_extension": ".py",
      "mimetype": "text/x-python",
      "name": "python",
      "nbconvert_exporter": "python",
      "pygments_lexer": "ipython3",
      "version": "3.10.18"
    }
  },
  "nbformat": 4,
  "nbformat_minor": 5
}
